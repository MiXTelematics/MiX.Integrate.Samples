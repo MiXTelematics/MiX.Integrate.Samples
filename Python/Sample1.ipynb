{
 "cells": [
  {
   "cell_type": "code",
   "execution_count": 1,
   "metadata": {
    "collapsed": false
   },
   "outputs": [],
   "source": [
    "# Test_MiX.Integrate.Api\n",
    "# Authenticate and get all assets for a group\n",
    "import requests\n",
    "import json\n",
    "import base64  \n",
    "\n",
    "IdentityUrl = \"https://identity.uat.mixtelematics.com\"  \n",
    "ApiUrl = \"https://integrate.uat.mixtelematics.com\"\n",
    "\n",
    "IdentityClientId = \"$clientid$\"\n",
    "IdentityClientSecret = \"$secret$\"\n",
    "IdentityUsername = \"$username$\"\n",
    "IdentityPassword = \"$password$\"\n",
    "IdentityScope = \"offline_access+MiX.Integrate\"\n",
    "\n",
    "GroupId = -1234567890123456789"
   ]
  },
  {
   "cell_type": "code",
   "execution_count": 2,
   "metadata": {
    "collapsed": false
   },
   "outputs": [
    {
     "name": "stdout",
     "output_type": "stream",
     "text": [
      "1. Get Identity server configuration\n",
      "Request: https://identity.uat.mixtelematics.com/core/.well-known/openid-configuration\n",
      "200 OK\n",
      "Config.issuer: https://identity.uat.mixtelematics.com/core\n",
      "Config.token_endpoint: https://identity.uat.mixtelematics.com/core/connect/token\n"
     ]
    }
   ],
   "source": [
    "print(\"1. Get Identity server configuration\")\n",
    "ConfigUrl = IdentityUrl + \"/core/.well-known/openid-configuration\" \n",
    "print(\"Request: \" + ConfigUrl)\n",
    "ConfigResponse = requests.get(ConfigUrl) \n",
    "print(ConfigResponse.status_code, ConfigResponse.reason)\n",
    "IdServerConfig = json.loads(ConfigResponse.content)\n",
    "print(\"Config.issuer: \" + IdServerConfig[\"issuer\"])  \n",
    "print(\"Config.token_endpoint: \" + IdServerConfig[\"token_endpoint\"])  \n",
    "IdTokenEndPoint = IdServerConfig[\"token_endpoint\"]"
   ]
  },
  {
   "cell_type": "code",
   "execution_count": null,
   "metadata": {
    "collapsed": true
   },
   "outputs": [],
   "source": []
  },
  {
   "cell_type": "code",
   "execution_count": null,
   "metadata": {
    "collapsed": true
   },
   "outputs": [],
   "source": []
  },
  {
   "cell_type": "code",
   "execution_count": 3,
   "metadata": {
    "collapsed": false
   },
   "outputs": [
    {
     "name": "stdout",
     "output_type": "stream",
     "text": [
      "2. Authenticate against Identity server\n",
      "Request: https://identity.uat.mixtelematics.com/core/connect/token\n",
      "200 OK\n",
      "expires_in: 3600\n",
      "refresh_token: abcdef01234567890abcdef01234567890\n",
      "token_type: Bearer\n",
      "access_token: 1291 bytes\n"
     ]
    }
   ],
   "source": [
    "print(\"2. Authenticate against Identity server\")\n",
    "auth = \"Basic \" + base64.b64encode(bytes(IdentityClientId + \":\" + IdentityClientSecret, \"utf-8\")).decode('ascii')\n",
    "body = \"grant_type=password&username=\" + IdentityUsername + \"&password=\" + IdentityPassword + \"&scope=\" + IdentityScope\n",
    "#print(\"Authorization: \" + auth)\n",
    "#print(\"Body: \" + body)\n",
    "print(\"Request: \" + IdTokenEndPoint)\n",
    "TokenResponse = requests.post(IdTokenEndPoint, data = body, headers = {\"accept\":\"application/json\", \"Authorization\":auth }) \n",
    "print(TokenResponse.status_code, TokenResponse.reason)\n",
    "Token = json.loads(TokenResponse.content)\n",
    "print(\"expires_in: \" + str(Token[\"expires_in\"]))\n",
    "print(\"refresh_token: \" + Token[\"refresh_token\"])\n",
    "print(\"token_type: \" + Token[\"token_type\"])\n",
    "print(\"access_token: \" + str(len(Token[\"access_token\"])) + \" bytes\")\n",
    "BearerToken = \"Bearer \" + Token[\"access_token\"]"
   ]
  },
  {
   "cell_type": "code",
   "execution_count": 4,
   "metadata": {
    "collapsed": false
   },
   "outputs": [
    {
     "name": "stdout",
     "output_type": "stream",
     "text": [
      "3. Assets.GetAllAsync\n",
      "Request: https://integrate.uat.mixtelematics.com/api/assets/group/-1234567890123456789\n",
      "200 OK\n",
      "Assets.Count: 123\n",
      "First Asset: AssetId:-3456789012345678912, Description:17.9, SiteId:-1234567890123456789\n"
     ]
    }
   ],
   "source": [
    "print(\"3. Assets.GetAllAsync\")\n",
    "GetAssetsForGroupUrl = ApiUrl + \"/api/assets/group/\" + str(GroupId)\n",
    "print(\"Request: \" + GetAssetsForGroupUrl)\n",
    "#print(\"Authorization: \" + BearerToken)\n",
    "AssetsResponse = requests.get(GetAssetsForGroupUrl, headers = {\"accept\":\"application/json\", \"Authorization\":BearerToken })\n",
    "print(AssetsResponse.status_code, AssetsResponse.reason)\n",
    "Assets = json.loads(AssetsResponse.content)\n",
    "print(\"Assets.Count: \" + str(len(Assets)))\n",
    "print(\"First Asset: AssetId:\" + str(Assets[0][\"AssetId\"]) + \", Description:\" + str(Assets[0][\"Description\"]) + \", SiteId:\" + str(Assets[0][\"SiteId\"]))"
   ]
  },
  {
   "cell_type": "code",
   "execution_count": null,
   "metadata": {
    "collapsed": true
   },
   "outputs": [],
   "source": []
  }
 ],
 "metadata": {
  "kernelspec": {
   "display_name": "Python 3",
   "language": "python",
   "name": "python3"
  },
  "language_info": {
   "codemirror_mode": {
    "name": "ipython",
    "version": 3
   },
   "file_extension": ".py",
   "mimetype": "text/x-python",
   "name": "python",
   "nbconvert_exporter": "python",
   "pygments_lexer": "ipython3",
   "version": "3.6.0"
  }
 },
 "nbformat": 4,
 "nbformat_minor": 2
}
